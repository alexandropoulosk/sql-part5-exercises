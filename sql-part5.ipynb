{
    "metadata": {
        "kernelspec": {
            "name": "SQL",
            "display_name": "SQL",
            "language": "sql"
        },
        "language_info": {
            "name": "sql",
            "version": ""
        }
    },
    "nbformat_minor": 2,
    "nbformat": 4,
    "cells": [
        {
            "cell_type": "markdown",
            "source": [
                "# Exercises: Creating, Updating, and Destroying Objects\n",
                "\n",
                "For the exercises, you will be working with objects and data you create. Before opening this notebook, make sure that you have set up the new connection to the server and that you have located the database and your schema.\n",
                "\n",
                "## Object Creation\n",
                "\n",
                "Before coding, think of three things you want to make. These could be coding projects, new recipes, or planned projects for a woodworking hobby. Brainstorm the appropriate column names and data types as well.\n",
                "\n",
                "Create a table under your schema called `planned_makes`."
            ],
            "metadata": {
                "azdata_cell_guid": "9d51c166-0c19-4f27-a422-2a6cf596bfb2"
            },
            "attachments": {}
        },
        {
            "cell_type": "code",
            "source": [
                "Create TABLE junkdb_stl_sept2022.katerinaa.planned_makes7 \r\n",
                "(recipe_id INT PRIMARY KEY IDENTITY (1,1), \r\n",
                "recipe_origin VARCHAR (1000), \r\n",
                "dish_name VARCHAR (1000),\r\n",
                "ingredients VARCHAR (1000), \r\n",
                "cook_time_mins INT);\r\n",
                ""
            ],
            "metadata": {
                "azdata_cell_guid": "d9238911-6f81-4f01-980d-b584307effaf",
                "language": "sql"
            },
            "outputs": [
                {
                    "output_type": "error",
                    "ename": "",
                    "evalue": "Msg 2714, Level 16, State 6, Line 1\r\nThere is already an object named 'planned_makes7' in the database.",
                    "traceback": []
                },
                {
                    "output_type": "display_data",
                    "data": {
                        "text/html": "Total execution time: 00:00:00.039"
                    },
                    "metadata": {}
                }
            ],
            "execution_count": 34
        },
        {
            "cell_type": "markdown",
            "source": [
                "Add three rows to your table that are your planned makes."
            ],
            "metadata": {
                "azdata_cell_guid": "83cdf34d-8c4f-4fa1-a14e-77384b19d734"
            }
        },
        {
            "cell_type": "code",
            "source": [
                "INSERT INTO katerinaa.planned_makes7(recipe_origin, dish_name, ingredients, cook_time_mins)                                                                                                                                                                                                      \r\n",
                "VALUES \r\n",
                "    ('Greece ', 'Greek Lettuce Salad', 'romaine, dill, feta, EVOO, lemon', 5), \r\n",
                "    ('Greece ', 'Saganaki', 'Sheeps Milk Feta, one egg beaten, black pepper, flour, EVOO, lemon, pita', 20 ),\r\n",
                "    ('Greece ', 'Ouzo with Lemon' ,'Ouzo, Lemon Juice, one sprig rosemary', 5);\r\n",
                "SELECT * from katerinaa.planned_makes7"
            ],
            "metadata": {
                "azdata_cell_guid": "e7cff9cb-87ba-4c7b-98f2-eaf445e8719c",
                "language": "sql",
                "tags": []
            },
            "outputs": [
                {
                    "output_type": "display_data",
                    "data": {
                        "text/html": "(3 rows affected)"
                    },
                    "metadata": {}
                },
                {
                    "output_type": "display_data",
                    "data": {
                        "text/html": "(3 rows affected)"
                    },
                    "metadata": {}
                },
                {
                    "output_type": "display_data",
                    "data": {
                        "text/html": "Total execution time: 00:00:00.291"
                    },
                    "metadata": {}
                },
                {
                    "output_type": "execute_result",
                    "metadata": {},
                    "execution_count": 1,
                    "data": {
                        "application/vnd.dataresource+json": {
                            "schema": {
                                "fields": [
                                    {
                                        "name": "recipe_id"
                                    },
                                    {
                                        "name": "recipe_origin"
                                    },
                                    {
                                        "name": "dish_name"
                                    },
                                    {
                                        "name": "ingredients"
                                    },
                                    {
                                        "name": "cook_time_mins"
                                    }
                                ]
                            },
                            "data": [
                                {
                                    "0": "1",
                                    "1": "Greece ",
                                    "2": "Greek Lettuce Salad",
                                    "3": "romaine, dill, feta, EVOO, lemon",
                                    "4": "5"
                                },
                                {
                                    "0": "2",
                                    "1": "Greece ",
                                    "2": "Saganaki",
                                    "3": "Sheeps Milk Feta, one egg beaten, black pepper, flour, EVOO, lemon, pita",
                                    "4": "20"
                                },
                                {
                                    "0": "3",
                                    "1": "Greece ",
                                    "2": "Ouzo with Lemon",
                                    "3": "Ouzo, Lemon Juice, one sprig rosemary",
                                    "4": "5"
                                }
                            ]
                        },
                        "text/html": [
                            "<table>",
                            "<tr><th>recipe_id</th><th>recipe_origin</th><th>dish_name</th><th>ingredients</th><th>cook_time_mins</th></tr>",
                            "<tr><td>1</td><td>Greece </td><td>Greek Lettuce Salad</td><td>romaine, dill, feta, EVOO, lemon</td><td>5</td></tr>",
                            "<tr><td>2</td><td>Greece </td><td>Saganaki</td><td>Sheeps Milk Feta, one egg beaten, black pepper, flour, EVOO, lemon, pita</td><td>20</td></tr>",
                            "<tr><td>3</td><td>Greece </td><td>Ouzo with Lemon</td><td>Ouzo, Lemon Juice, one sprig rosemary</td><td>5</td></tr>",
                            "</table>"
                        ]
                    }
                }
            ],
            "execution_count": 1
        },
        {
            "cell_type": "markdown",
            "source": [
                "## Update a Row\n",
                "\n",
                "Change different values in one of your three rows."
            ],
            "metadata": {
                "azdata_cell_guid": "4a39b8d4-ae97-4e09-8336-c5fc6a00d76c"
            },
            "attachments": {}
        },
        {
            "cell_type": "code",
            "source": [
                "UPDATE katerinaa.planned_makes7\r\n",
                "SET cook_time_mins = 30\r\n",
                "WHERE recipe_id = 2\r\n",
                "SELECT * FROM katerinaa.planned_makes7"
            ],
            "metadata": {
                "azdata_cell_guid": "7409c695-9581-4ad8-b03a-574d2c4c87cb",
                "language": "sql"
            },
            "outputs": [
                {
                    "output_type": "display_data",
                    "data": {
                        "text/html": "(1 row affected)"
                    },
                    "metadata": {}
                },
                {
                    "output_type": "display_data",
                    "data": {
                        "text/html": "(3 rows affected)"
                    },
                    "metadata": {}
                },
                {
                    "output_type": "display_data",
                    "data": {
                        "text/html": "Total execution time: 00:00:00.053"
                    },
                    "metadata": {}
                },
                {
                    "output_type": "execute_result",
                    "metadata": {},
                    "execution_count": 3,
                    "data": {
                        "application/vnd.dataresource+json": {
                            "schema": {
                                "fields": [
                                    {
                                        "name": "recipe_id"
                                    },
                                    {
                                        "name": "recipe_origin"
                                    },
                                    {
                                        "name": "dish_name"
                                    },
                                    {
                                        "name": "ingredients"
                                    },
                                    {
                                        "name": "cook_time_mins"
                                    }
                                ]
                            },
                            "data": [
                                {
                                    "0": "1",
                                    "1": "Greece ",
                                    "2": "Greek Lettuce Salad",
                                    "3": "romaine, dill, feta, EVOO, lemon",
                                    "4": "5"
                                },
                                {
                                    "0": "2",
                                    "1": "Greece ",
                                    "2": "Saganaki",
                                    "3": "Sheeps Milk Feta, one egg beaten, black pepper, flour, EVOO, lemon, pita",
                                    "4": "30"
                                },
                                {
                                    "0": "3",
                                    "1": "Greece ",
                                    "2": "Ouzo with Lemon",
                                    "3": "Ouzo, Lemon Juice, one sprig rosemary",
                                    "4": "5"
                                }
                            ]
                        },
                        "text/html": [
                            "<table>",
                            "<tr><th>recipe_id</th><th>recipe_origin</th><th>dish_name</th><th>ingredients</th><th>cook_time_mins</th></tr>",
                            "<tr><td>1</td><td>Greece </td><td>Greek Lettuce Salad</td><td>romaine, dill, feta, EVOO, lemon</td><td>5</td></tr>",
                            "<tr><td>2</td><td>Greece </td><td>Saganaki</td><td>Sheeps Milk Feta, one egg beaten, black pepper, flour, EVOO, lemon, pita</td><td>30</td></tr>",
                            "<tr><td>3</td><td>Greece </td><td>Ouzo with Lemon</td><td>Ouzo, Lemon Juice, one sprig rosemary</td><td>5</td></tr>",
                            "</table>"
                        ]
                    }
                }
            ],
            "execution_count": 3
        },
        {
            "cell_type": "markdown",
            "source": [
                "## Delete a Row\n",
                "\n",
                "Delete one of the rows from your table."
            ],
            "metadata": {
                "azdata_cell_guid": "95e91a6e-9038-42d9-9401-5738842aba17"
            }
        },
        {
            "cell_type": "code",
            "source": [
                "DELETE FROM katerinaa.planned_makes7\r\n",
                "WHERE recipe_id = 2\r\n",
                "\r\n",
                "SELECT * FROM katerinaa.planned_makes7"
            ],
            "metadata": {
                "azdata_cell_guid": "749c748f-19b5-4c69-9004-b6b20216616a",
                "language": "sql"
            },
            "outputs": [
                {
                    "output_type": "display_data",
                    "data": {
                        "text/html": "(1 row affected)"
                    },
                    "metadata": {}
                },
                {
                    "output_type": "display_data",
                    "data": {
                        "text/html": "(2 rows affected)"
                    },
                    "metadata": {}
                },
                {
                    "output_type": "display_data",
                    "data": {
                        "text/html": "Total execution time: 00:00:00.053"
                    },
                    "metadata": {}
                },
                {
                    "output_type": "execute_result",
                    "metadata": {},
                    "execution_count": 4,
                    "data": {
                        "application/vnd.dataresource+json": {
                            "schema": {
                                "fields": [
                                    {
                                        "name": "recipe_id"
                                    },
                                    {
                                        "name": "recipe_origin"
                                    },
                                    {
                                        "name": "dish_name"
                                    },
                                    {
                                        "name": "ingredients"
                                    },
                                    {
                                        "name": "cook_time_mins"
                                    }
                                ]
                            },
                            "data": [
                                {
                                    "0": "1",
                                    "1": "Greece ",
                                    "2": "Greek Lettuce Salad",
                                    "3": "romaine, dill, feta, EVOO, lemon",
                                    "4": "5"
                                },
                                {
                                    "0": "3",
                                    "1": "Greece ",
                                    "2": "Ouzo with Lemon",
                                    "3": "Ouzo, Lemon Juice, one sprig rosemary",
                                    "4": "5"
                                }
                            ]
                        },
                        "text/html": [
                            "<table>",
                            "<tr><th>recipe_id</th><th>recipe_origin</th><th>dish_name</th><th>ingredients</th><th>cook_time_mins</th></tr>",
                            "<tr><td>1</td><td>Greece </td><td>Greek Lettuce Salad</td><td>romaine, dill, feta, EVOO, lemon</td><td>5</td></tr>",
                            "<tr><td>3</td><td>Greece </td><td>Ouzo with Lemon</td><td>Ouzo, Lemon Juice, one sprig rosemary</td><td>5</td></tr>",
                            "</table>"
                        ]
                    }
                }
            ],
            "execution_count": 4
        },
        {
            "cell_type": "markdown",
            "source": [
                "## Drop the Table\n",
                "\n",
                "While this has been fun, it is time to drop the table!"
            ],
            "metadata": {
                "azdata_cell_guid": "2239cb09-137b-4579-905b-1aa020793181"
            },
            "attachments": {}
        },
        {
            "cell_type": "code",
            "source": [
                "drop TABLE katerinaa.planned_makes1\r\n",
                "DROP table katerinaa.planned_makes2\r\n",
                "drop TABLE katerinaa.planned_makes3\r\n",
                "drop TABLE katerinaa.planned_makes4\r\n",
                "drop TABLE katerinaa.planned_makes5\r\n",
                "drop TABLE katerinaa.planned_makes6\r\n",
                "drop TABLE katerinaa.planned_makes7"
            ],
            "metadata": {
                "azdata_cell_guid": "b3c7f6ea-ee26-46b3-9c2a-2f7a82c39699",
                "language": "sql"
            },
            "outputs": [
{
    "output_type": "display_data",
    "data": {
        "text/html": "Commands completed successfully."
    },
    "metadata": {}
}, {
    "output_type": "display_data",
    "data": {
        "text/html": "Total execution time: 00:00:00.058"
    },
    "metadata": {}
}
],
            "execution_count": 5
        }
    ]
}